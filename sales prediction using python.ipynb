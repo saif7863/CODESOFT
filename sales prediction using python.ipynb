{
 "cells": [
  {
   "cell_type": "code",
   "execution_count": null,
   "id": "initial_id",
   "metadata": {
    "collapsed": true
   },
   "outputs": [],
   "source": [
    "import pandas as pd\n",
    "import numpy as np\n",
    "import matplotlib.pyplot as plt\n",
    "import seaborn as sns\n",
    "from sklearn.linear_model import LinearRegression\n",
    "from sklearn.model_selection import train_test_split\n",
    "from sklearn.linear_model import LogisticRegression"
   ]
  },
  {
   "cell_type": "code",
   "outputs": [],
   "source": [
    "data_file=pd.read_csv(\"sales data file.csv\")"
   ],
   "metadata": {
    "collapsed": false
   },
   "id": "9ece101ab740ef47"
  },
  {
   "cell_type": "code",
   "outputs": [],
   "source": [
    "data_file.head(15)"
   ],
   "metadata": {
    "collapsed": false
   },
   "id": "15dafd3c152482f3"
  },
  {
   "cell_type": "code",
   "outputs": [],
   "source": [
    "data_file.shape"
   ],
   "metadata": {
    "collapsed": false
   },
   "id": "29697fa0d46353a5"
  },
  {
   "cell_type": "code",
   "outputs": [],
   "source": [
    "data_file.describe()"
   ],
   "metadata": {
    "collapsed": false
   },
   "id": "89a9a9068908e813"
  },
  {
   "cell_type": "code",
   "outputs": [],
   "source": [
    "data_file.isnull().sum()"
   ],
   "metadata": {
    "collapsed": false
   },
   "id": "7cce5521ec1b46af"
  },
  {
   "cell_type": "code",
   "outputs": [],
   "source": [
    "sns.set()"
   ],
   "metadata": {
    "collapsed": false
   },
   "id": "b72469229323e8d"
  },
  {
   "cell_type": "code",
   "outputs": [],
   "source": [
    "data_file['TV'].hist()"
   ],
   "metadata": {
    "collapsed": false
   },
   "id": "dcf402724166e6e6"
  },
  {
   "cell_type": "code",
   "outputs": [],
   "source": [
    "data_file['Newspaper'].hist()"
   ],
   "metadata": {
    "collapsed": false
   },
   "id": "409792f78418eae2"
  },
  {
   "cell_type": "code",
   "outputs": [],
   "source": [
    "data_file['Radio'].hist()"
   ],
   "metadata": {
    "collapsed": false
   },
   "id": "2dd5607e4c95781c"
  },
  {
   "cell_type": "code",
   "outputs": [],
   "source": [
    "sns.pairplot(data_file,x_vars=['TV','Radio','Newspaper'],y_vars='Sales',kind='scatter')"
   ],
   "metadata": {
    "collapsed": false
   },
   "id": "13f865e4e45665b9"
  },
  {
   "cell_type": "code",
   "outputs": [],
   "source": [
    "sns.heatmap(data_file.corr(),annot=True,cmap='coolwarm')"
   ],
   "metadata": {
    "collapsed": false
   },
   "id": "26a92c684d003bfd"
  },
  {
   "cell_type": "code",
   "outputs": [],
   "source": [
    "X=data_file.drop(columns='Sales')"
   ],
   "metadata": {
    "collapsed": false
   },
   "id": "34ae17ebad3aacec"
  },
  {
   "cell_type": "code",
   "outputs": [],
   "source": [
    "\n",
    "Y=data_file['Sales']"
   ],
   "metadata": {
    "collapsed": false
   },
   "id": "b975fc993f312402"
  },
  {
   "cell_type": "code",
   "outputs": [],
   "source": [
    "X_train,X_test,Y_train,Y_test=train_test_split(X,Y,test_size=0.3,random_state=3)"
   ],
   "metadata": {
    "collapsed": false
   },
   "id": "b40a8e17ef0f890b"
  },
  {
   "cell_type": "code",
   "outputs": [],
   "source": [
    "model=LinearRegression()"
   ],
   "metadata": {
    "collapsed": false
   },
   "id": "da655e391ed24da1"
  },
  {
   "cell_type": "code",
   "outputs": [],
   "source": [
    "model.fit(X_train,Y_train)"
   ],
   "metadata": {
    "collapsed": false
   },
   "id": "3bf3baba98c4987d"
  },
  {
   "cell_type": "code",
   "outputs": [],
   "source": [
    "prediction=model.predict(X_test)"
   ],
   "metadata": {
    "collapsed": false
   },
   "id": "cb17b283b682c80a"
  },
  {
   "cell_type": "code",
   "outputs": [],
   "source": [
    "prediction"
   ],
   "metadata": {
    "collapsed": false
   },
   "id": "4572c8e077bf26f0"
  },
  {
   "cell_type": "code",
   "outputs": [],
   "source": [
    "model.intercept_"
   ],
   "metadata": {
    "collapsed": false
   },
   "id": "3b9c3b88b3bc80dc"
  },
  {
   "cell_type": "code",
   "outputs": [],
   "source": [
    "model.coef_"
   ],
   "metadata": {
    "collapsed": false
   },
   "id": "d69385353fde6309"
  },
  {
   "cell_type": "code",
   "outputs": [],
   "source": [
    "accuracy_score=model.score(X_test,Y_test)*100"
   ],
   "metadata": {
    "collapsed": false
   },
   "id": "774f7ec0bc1a9645"
  },
  {
   "cell_type": "code",
   "outputs": [],
   "source": [
    "print(f\"Accuracy of model: {accuracy_score}%\")"
   ],
   "metadata": {
    "collapsed": false
   },
   "id": "10b6c3ff4d81b079"
  }
 ],
 "metadata": {
  "kernelspec": {
   "display_name": "Python 3",
   "language": "python",
   "name": "python3"
  },
  "language_info": {
   "codemirror_mode": {
    "name": "ipython",
    "version": 2
   },
   "file_extension": ".py",
   "mimetype": "text/x-python",
   "name": "python",
   "nbconvert_exporter": "python",
   "pygments_lexer": "ipython2",
   "version": "2.7.6"
  }
 },
 "nbformat": 4,
 "nbformat_minor": 5
}

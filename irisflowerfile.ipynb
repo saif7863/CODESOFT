{
 "cells": [
  {
   "cell_type": "code",
   "execution_count": 1,
   "id": "initial_id",
   "metadata": {
    "collapsed": true,
    "ExecuteTime": {
     "end_time": "2024-03-16T00:26:58.304240800Z",
     "start_time": "2024-03-16T00:26:57.201978400Z"
    }
   },
   "outputs": [],
   "source": [
    "import pandas as pd\n",
    "import numpy as np\n",
    "import seaborn as sns\n",
    "import matplotlib.pyplot as plt\n",
    "from sklearn.preprocessing import LabelEncoder \n",
    "from sklearn.model_selection import train_test_split\n",
    "from sklearn.linear_model import LogisticRegression\n",
    "from sklearn.neighbors import KNeighborsClassifier\n",
    "from sklearn.tree import DecisionTreeClassifier"
   ]
  },
  {
   "cell_type": "code",
   "outputs": [],
   "source": [
    "iris_flower_file=pd.read_csv(\"iris flower file.csv\")"
   ],
   "metadata": {
    "collapsed": false
   },
   "id": "e292b629a9fcb9dc"
  },
  {
   "cell_type": "code",
   "outputs": [],
   "source": [
    "iris_flower_file.head(16)"
   ],
   "metadata": {
    "collapsed": false
   },
   "id": "da09571eb9e1f2c5"
  },
  {
   "cell_type": "code",
   "outputs": [],
   "source": [
    "iris_flower_file.shape"
   ],
   "metadata": {
    "collapsed": false
   },
   "id": "b1d2e048246bb7b5"
  },
  {
   "cell_type": "code",
   "outputs": [],
   "source": [
    "iris_flower_file.info()"
   ],
   "metadata": {
    "collapsed": false
   },
   "id": "5bb905524d3a80a0"
  },
  {
   "cell_type": "code",
   "outputs": [],
   "source": [
    "iris_flower_file.describe()"
   ],
   "metadata": {
    "collapsed": false
   },
   "id": "44ab3b379603d58a"
  },
  {
   "cell_type": "code",
   "outputs": [],
   "source": [
    "iris_flower_file.isnull().sum()"
   ],
   "metadata": {
    "collapsed": false
   },
   "id": "efeb30aea0b1bd2c"
  },
  {
   "cell_type": "code",
   "outputs": [],
   "source": [
    "iris_flower_file.describe()"
   ],
   "metadata": {
    "collapsed": false
   },
   "id": "3b3802b69c687f2c"
  },
  {
   "cell_type": "code",
   "outputs": [],
   "source": [
    "iris_flower_file['sepal_length'].hist()"
   ],
   "metadata": {
    "collapsed": false
   },
   "id": "b8bcd83b46838a61"
  },
  {
   "cell_type": "code",
   "outputs": [],
   "source": [
    "iris_flower_file['sepal_width'].hist()"
   ],
   "metadata": {
    "collapsed": false
   },
   "id": "c8a965a1ecde2c0d"
  },
  {
   "cell_type": "code",
   "outputs": [],
   "source": [
    "iris_flower_file['petal_length'].hist()"
   ],
   "metadata": {
    "collapsed": false
   },
   "id": "74636f160af73e17"
  },
  {
   "cell_type": "code",
   "outputs": [],
   "source": [
    "iris_flower_file['petal_width'].hist()"
   ],
   "metadata": {
    "collapsed": false
   },
   "id": "2113e1739794ca78"
  },
  {
   "cell_type": "code",
   "outputs": [],
   "source": [
    "for i in range(3):\n",
    "    x=iris_flower_file[iris_flower_file['species']==species[i]]\n",
    "    plt.scatter(x['sepal_width'],x['petal_width'],c=colors[i],label=species[i])\n",
    "plt.xlabel(\"Sepal Width\")\n",
    "plt.ylabel(\"Petal Width\")\n",
    "plt.legend()\n"
   ],
   "metadata": {
    "collapsed": false
   },
   "id": "f4229cb3c4163df9"
  },
  {
   "cell_type": "code",
   "outputs": [],
   "source": [
    "numeric_columns=iris_flower_file.drop(columns='species')\n",
    "corr=numeric_columns.corr()\n",
    "fig,axis=plt.subplots(figsize=(5,5))\n",
    "sns.heatmap(corr,annot=True,ax=axis,cmap='coolwarm')"
   ],
   "metadata": {
    "collapsed": false
   },
   "id": "510bdf717c193a64"
  },
  {
   "cell_type": "code",
   "outputs": [],
   "source": [
    "le=LabelEncoder()"
   ],
   "metadata": {
    "collapsed": false
   },
   "id": "93f6e98fb071cb7"
  },
  {
   "cell_type": "code",
   "outputs": [],
   "source": [
    "iris_flower_file['species']=le.fit_transform(iris_flower_file['species'])"
   ],
   "metadata": {
    "collapsed": false
   },
   "id": "b2bd0e3775231862"
  },
  {
   "cell_type": "code",
   "outputs": [],
   "source": [
    "iris_flower_file.head(16)"
   ],
   "metadata": {
    "collapsed": false
   },
   "id": "b8c3e10bef71a619"
  },
  {
   "cell_type": "code",
   "outputs": [],
   "source": [
    "\n",
    "x = iris_flower_file.drop(columns='species')\n",
    "y = iris_flower_file['species']\n",
    "x_train, x_test, y_train, y_test = train_test_split(x, y, test_size=0.3)\n",
    "LR = LogisticRegression()\n"
   ],
   "metadata": {
    "collapsed": false
   },
   "id": "3898d085a49890d8"
  },
  {
   "cell_type": "code",
   "outputs": [],
   "source": [
    "LR.fit(x_train,y_train)"
   ],
   "metadata": {
    "collapsed": false
   },
   "id": "a86221b2ecc2b082"
  },
  {
   "cell_type": "code",
   "outputs": [],
   "source": [
    "KNN = KNeighborsClassifier()\n",
    "KNN.fit(x_train, y_train)"
   ],
   "metadata": {
    "collapsed": false
   },
   "id": "cde5d76bc9402f3a"
  },
  {
   "cell_type": "code",
   "outputs": [],
   "source": [
    "DT = DecisionTreeClassifier()\n",
    "DT.fit(x_train, y_train)"
   ],
   "metadata": {
    "collapsed": false
   },
   "id": "aebb19e826e2e939"
  },
  {
   "cell_type": "code",
   "outputs": [],
   "source": [
    "LR_accuracy=LR.score(x_test,y_test)*100\n",
    "KNN_accuracy=KNN.score(x_test,y_test)*100\n",
    "DT_accuracy=DT.score(x_test,y_test)*100"
   ],
   "metadata": {
    "collapsed": false
   },
   "id": "2c2435c05ee39115"
  },
  {
   "cell_type": "code",
   "outputs": [],
   "source": [
    "print(f\"Accuracy by using Logistic Regression: {LR_accuracy}%\")"
   ],
   "metadata": {
    "collapsed": false
   },
   "id": "387ca260ee6fbe08"
  },
  {
   "cell_type": "code",
   "outputs": [],
   "source": [
    "print(f\"Accuracy by using K Nearest Neighbors Algorithm: {KNN_accuracy}%\")"
   ],
   "metadata": {
    "collapsed": false
   },
   "id": "1f851391b0518c48"
  },
  {
   "cell_type": "code",
   "outputs": [],
   "source": [
    "print(f\"Accuracy by using Decision Tree Classifier: {DT_accuracy}%\")\n"
   ],
   "metadata": {
    "collapsed": false
   },
   "id": "762564211d30788e"
  }
 ],
 "metadata": {
  "kernelspec": {
   "display_name": "Python 3",
   "language": "python",
   "name": "python3"
  },
  "language_info": {
   "codemirror_mode": {
    "name": "ipython",
    "version": 2
   },
   "file_extension": ".py",
   "mimetype": "text/x-python",
   "name": "python",
   "nbconvert_exporter": "python",
   "pygments_lexer": "ipython2",
   "version": "2.7.6"
  }
 },
 "nbformat": 4,
 "nbformat_minor": 5
}

{
 "cells": [
  {
   "cell_type": "code",
   "execution_count": null,
   "id": "initial_id",
   "metadata": {
    "collapsed": true
   },
   "outputs": [],
   "source": []
  },
  {
   "cell_type": "code",
   "outputs": [],
   "source": [
    "import pandas as pd\n",
    "import numpy as np\n",
    "import matplotlib.pyplot as plt\n",
    "import seaborn as sns\n",
    "from sklearn.model_selection import train_test_split\n",
    "from sklearn.linear_model import LogisticRegression\n",
    "from sklearn.metrics import accuracy_score"
   ],
   "metadata": {
    "collapsed": false
   },
   "id": "ad055c4654c4cb62"
  },
  {
   "cell_type": "code",
   "outputs": [],
   "source": [],
   "metadata": {
    "collapsed": false
   },
   "id": "66c5c40dc5a40d7f"
  },
  {
   "cell_type": "code",
   "outputs": [],
   "source": [
    "\n",
    "data=pd.read_csv(\"test.csv\")"
   ],
   "metadata": {
    "collapsed": false
   },
   "id": "375256191e152d63"
  },
  {
   "cell_type": "code",
   "outputs": [],
   "source": [
    "data"
   ],
   "metadata": {
    "collapsed": false
   },
   "id": "797bdb2d8830a871"
  },
  {
   "cell_type": "code",
   "outputs": [],
   "source": [
    "data.shape"
   ],
   "metadata": {
    "collapsed": false
   },
   "id": "cd903c1664323471"
  },
  {
   "cell_type": "code",
   "outputs": [],
   "source": [
    "data.info()"
   ],
   "metadata": {
    "collapsed": false
   },
   "id": "c3fba750ed4258e4"
  },
  {
   "cell_type": "code",
   "outputs": [],
   "source": [
    "data.isnull().sum()"
   ],
   "metadata": {
    "collapsed": false
   },
   "id": "de41e0a6ba1a6f00"
  },
  {
   "cell_type": "code",
   "outputs": [],
   "source": [
    "data=data.drop(columns='Cabin',axis=1)"
   ],
   "metadata": {
    "collapsed": false
   },
   "id": "b5dde17977344d02"
  },
  {
   "cell_type": "code",
   "outputs": [],
   "source": [
    "data['Age'].fillna(data['Age'].mean(),inplace=True)"
   ],
   "metadata": {
    "collapsed": false
   },
   "id": "f4b05e9416f916de"
  },
  {
   "cell_type": "code",
   "outputs": [],
   "source": [
    "data['Embarked'].fillna(data['Embarked'].mode()[0],inplace=True)"
   ],
   "metadata": {
    "collapsed": false
   },
   "id": "f7b876b5919c35b5"
  },
  {
   "cell_type": "code",
   "outputs": [],
   "source": [
    "data['Fare'].fillna(data['Fare'].mode()[0],inplace=True)"
   ],
   "metadata": {
    "collapsed": false
   },
   "id": "dc2c894fd517deb7"
  },
  {
   "cell_type": "code",
   "outputs": [],
   "source": [
    "data.isnull().sum().sum()"
   ],
   "metadata": {
    "collapsed": false
   },
   "id": "b5025faf93489064"
  },
  {
   "cell_type": "code",
   "outputs": [],
   "source": [
    "data['Survived'].value_counts()"
   ],
   "metadata": {
    "collapsed": false
   },
   "id": "dcfd4bb34e8b391a"
  },
  {
   "cell_type": "code",
   "outputs": [],
   "source": [
    "data.describe()"
   ],
   "metadata": {
    "collapsed": false
   },
   "id": "42a17337e32c7f25"
  },
  {
   "cell_type": "code",
   "outputs": [],
   "source": [
    "sns.set()"
   ],
   "metadata": {
    "collapsed": false
   },
   "id": "157791e4f23a9317"
  },
  {
   "cell_type": "code",
   "outputs": [],
   "source": [
    "sns.countplot(x='Survived',data=data)"
   ],
   "metadata": {
    "collapsed": false
   },
   "id": "337e251436744aad"
  },
  {
   "cell_type": "code",
   "outputs": [],
   "source": [
    "sns.countplot(x='Sex',data=data)"
   ],
   "metadata": {
    "collapsed": false
   },
   "id": "881fca476a49ede2"
  },
  {
   "cell_type": "code",
   "outputs": [],
   "source": [
    "sns.countplot(x='Sex',hue='Survived',data=data)"
   ],
   "metadata": {
    "collapsed": false
   },
   "id": "e3425b2d61b1cd4d"
  },
  {
   "cell_type": "code",
   "outputs": [],
   "source": [
    "sns.countplot(x='Pclass',hue='Survived',data=data)"
   ],
   "metadata": {
    "collapsed": false
   },
   "id": "ef44ea9ff14a9731"
  },
  {
   "cell_type": "code",
   "outputs": [],
   "source": [
    "data['Sex'].value_counts()"
   ],
   "metadata": {
    "collapsed": false
   },
   "id": "9ea497bca095a4fb"
  },
  {
   "cell_type": "code",
   "outputs": [],
   "source": [
    "data['Embarked'].value_counts()"
   ],
   "metadata": {
    "collapsed": false
   },
   "id": "5167d69431ddde7b"
  },
  {
   "cell_type": "code",
   "outputs": [],
   "source": [
    "data.replace({'Sex':{'male':0,'female':1},'Embarked':{'S':0,'C':1,'Q':2}},inplace=True)"
   ],
   "metadata": {
    "collapsed": false
   },
   "id": "75cb9b12f05400a7"
  },
  {
   "cell_type": "code",
   "outputs": [],
   "source": [
    "data"
   ],
   "metadata": {
    "collapsed": false
   },
   "id": "95e78a60ed64ca80"
  },
  {
   "cell_type": "code",
   "outputs": [],
   "source": [
    "X=data.drop(columns=['PassengerId','Name','Ticket'],axis=1)"
   ],
   "metadata": {
    "collapsed": false
   },
   "id": "8a49c166b2da7ab8"
  },
  {
   "cell_type": "code",
   "outputs": [],
   "source": [
    "Y=data['Survived']"
   ],
   "metadata": {
    "collapsed": false
   },
   "id": "aa881b21f6619f0e"
  },
  {
   "cell_type": "code",
   "outputs": [],
   "source": [
    "\n",
    "print(X)"
   ],
   "metadata": {
    "collapsed": false
   },
   "id": "c9a957d54db0a1f"
  },
  {
   "cell_type": "code",
   "outputs": [],
   "source": [
    "print(Y)\n"
   ],
   "metadata": {
    "collapsed": false
   },
   "id": "13bab0483fc4a480"
  },
  {
   "cell_type": "code",
   "outputs": [],
   "source": [
    "X_train,X_test,Y_train,Y_test=train_test_split(X,Y,test_size=0.2,random_state=2)"
   ],
   "metadata": {
    "collapsed": false
   },
   "id": "b61a134e252b3d14"
  },
  {
   "cell_type": "code",
   "outputs": [],
   "source": [
    "print(X.shape,X_train.shape,X_test.shape)"
   ],
   "metadata": {
    "collapsed": false
   },
   "id": "bcf76407ca56d471"
  },
  {
   "cell_type": "code",
   "outputs": [],
   "source": [
    "model=LogisticRegression()"
   ],
   "metadata": {
    "collapsed": false
   },
   "id": "f2b1f4d1980869e7"
  },
  {
   "cell_type": "code",
   "outputs": [],
   "source": [
    "model.fit(X_train,Y_train)"
   ],
   "metadata": {
    "collapsed": false
   },
   "id": "89cdaa7a0e317e06"
  },
  {
   "cell_type": "code",
   "outputs": [],
   "source": [
    "X_train_prediction=model.predict(X_train)"
   ],
   "metadata": {
    "collapsed": false
   },
   "id": "56146fbd47a1902f"
  },
  {
   "cell_type": "code",
   "outputs": [],
   "source": [
    "print(X_train_prediction)"
   ],
   "metadata": {
    "collapsed": false
   },
   "id": "3f1ab66fadd18e6"
  },
  {
   "cell_type": "code",
   "outputs": [],
   "source": [
    "train_data_accuracy=accuracy_score(Y_train,X_train_prediction)"
   ],
   "metadata": {
    "collapsed": false
   },
   "id": "17698e8da319ad9c"
  },
  {
   "cell_type": "code",
   "outputs": [],
   "source": [
    "print(\"Accuracy Score of training data: \",train_data_accuracy)"
   ],
   "metadata": {
    "collapsed": false
   },
   "id": "a061e77f473857dc"
  },
  {
   "cell_type": "code",
   "outputs": [],
   "source": [
    "X_test_prediction=model.predict(X_test)"
   ],
   "metadata": {
    "collapsed": false
   },
   "id": "973e9977d6bcbdf"
  },
  {
   "cell_type": "code",
   "outputs": [],
   "source": [
    "print(X_test_prediction)"
   ],
   "metadata": {
    "collapsed": false
   },
   "id": "d972931233a74ae6"
  },
  {
   "cell_type": "code",
   "outputs": [],
   "source": [
    "test_data_accuracy=accuracy_score(Y_test,X_test_prediction)"
   ],
   "metadata": {
    "collapsed": false
   },
   "id": "99c61cdca1802aeb"
  },
  {
   "cell_type": "code",
   "outputs": [],
   "source": [
    "print(\"Accuracy score of testing data:\",test_data_accuracy)"
   ],
   "metadata": {
    "collapsed": false
   },
   "id": "8f80a699ff8c930f"
  }
 ],
 "metadata": {
  "kernelspec": {
   "display_name": "Python 3",
   "language": "python",
   "name": "python3"
  },
  "language_info": {
   "codemirror_mode": {
    "name": "ipython",
    "version": 2
   },
   "file_extension": ".py",
   "mimetype": "text/x-python",
   "name": "python",
   "nbconvert_exporter": "python",
   "pygments_lexer": "ipython2",
   "version": "2.7.6"
  }
 },
 "nbformat": 4,
 "nbformat_minor": 5
}
